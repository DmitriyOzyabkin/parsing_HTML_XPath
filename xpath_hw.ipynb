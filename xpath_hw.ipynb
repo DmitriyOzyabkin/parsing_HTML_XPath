{
 "cells": [
  {
   "cell_type": "markdown",
   "metadata": {},
   "source": [
    "##### Урок 4. Парсинг HTML. XPath\n",
    "Выберите веб-сайт с табличными данными, который вас интересует.\n",
    "Напишите код Python, использующий библиотеку requests для отправки HTTP GET-запроса на сайт и получения HTML-содержимого страницы.\n",
    "Выполните парсинг содержимого HTML с помощью библиотеки lxml, чтобы извлечь данные из таблицы.\n",
    "Сохраните извлеченные данные в CSV-файл с помощью модуля csv.\n",
    "\n",
    "Для работы с табличными данными был выбран сайт https://health-diet.ru Этот ресурс содержит много информации в табличном виде. В частности страница с таблицей КБЖУ фастфуда."
   ]
  },
  {
   "cell_type": "code",
   "execution_count": 79,
   "metadata": {},
   "outputs": [],
   "source": [
    "import requests\n",
    "from lxml import html\n",
    "import pandas as pd"
   ]
  },
  {
   "cell_type": "markdown",
   "metadata": {},
   "source": [
    "Извлечение данных"
   ]
  },
  {
   "cell_type": "code",
   "execution_count": 80,
   "metadata": {},
   "outputs": [
    {
     "name": "stdout",
     "output_type": "stream",
     "text": [
      "Server response 200\n"
     ]
    }
   ],
   "source": [
    "# Создаем запрос на страницу\n",
    "headers = {\n",
    "    'User-Agent': 'Mozilla/5.0 (Macintosh; Intel Mac OS X 10_10_1) AppleWebKit/537.36 (KHTML, like Gecko) Chrome/39.0.2171.95 Safari/537.36'}\n",
    "\n",
    "url = \"https://health-diet.ru\"\n",
    "\n",
    "response = requests.get(url + \"/base_of_food/food_24529\", headers=headers)\n",
    "\n",
    "# При получении ответа преобразуем содержимое страницы\n",
    "if response.status_code == 200:\n",
    "    print(f\"Server response {response.status_code}\")\n",
    "    tree = html.fromstring(response.content)\n",
    " \n",
    "    \n",
    "else:\n",
    "    print(f\"Error {response.status_code}\")"
   ]
  },
  {
   "cell_type": "markdown",
   "metadata": {},
   "source": [
    "Парсинг данных из таблицы"
   ]
  },
  {
   "cell_type": "code",
   "execution_count": 81,
   "metadata": {},
   "outputs": [],
   "source": [
    "# Извлечение данных таблицы\n",
    "\n",
    "all_products = tree.xpath(\"//div//table/tbody/tr\")\n",
    "\n",
    "fast_food = []\n",
    "for food in all_products:\n",
    "    fast_food_nutrients = {}\n",
    "    # Извлечение данных из строки таблицы\n",
    "    product = food.xpath(\".//a/text()\")\n",
    "    calories = food.xpath(\"./td[@class='uk-text-right'][1]/text()\")\n",
    "    proteins = food.xpath(\"./td[@class='uk-text-right'][2]/text()\")\n",
    "    fats = food.xpath(\"./td[@class='uk-text-right'][3]/text()\")\n",
    "    carbs = food.xpath(\"./td[@class='uk-text-right'][4]/text()\")\n",
    "\n",
    "# Форимируем словать с данными по покаждому продукту и добавляем в общий список\n",
    "    \n",
    "    fast_food_nutrients[\"product\"] = product[0]\n",
    "    fast_food_nutrients[\"calories\"] = calories[0]\n",
    "    fast_food_nutrients[\"proteins\"] = proteins[0]\n",
    "    fast_food_nutrients[\"fats\"] = fats[0]\n",
    "    fast_food_nutrients[\"carbs\"] = carbs[0]\n",
    "\n",
    "    fast_food.append(fast_food_nutrients)\n"
   ]
  },
  {
   "cell_type": "markdown",
   "metadata": {},
   "source": [
    "Создание датафрейма и обработка данных"
   ]
  },
  {
   "cell_type": "code",
   "execution_count": 82,
   "metadata": {},
   "outputs": [
    {
     "data": {
      "text/html": [
       "<div>\n",
       "<style scoped>\n",
       "    .dataframe tbody tr th:only-of-type {\n",
       "        vertical-align: middle;\n",
       "    }\n",
       "\n",
       "    .dataframe tbody tr th {\n",
       "        vertical-align: top;\n",
       "    }\n",
       "\n",
       "    .dataframe thead th {\n",
       "        text-align: right;\n",
       "    }\n",
       "</style>\n",
       "<table border=\"1\" class=\"dataframe\">\n",
       "  <thead>\n",
       "    <tr style=\"text-align: right;\">\n",
       "      <th></th>\n",
       "      <th>product</th>\n",
       "      <th>calories</th>\n",
       "      <th>proteins</th>\n",
       "      <th>fats</th>\n",
       "      <th>carbs</th>\n",
       "    </tr>\n",
       "  </thead>\n",
       "  <tbody>\n",
       "    <tr>\n",
       "      <th>0</th>\n",
       "      <td>BURGER KING, ванильный коктейль</td>\n",
       "      <td>168 кКал</td>\n",
       "      <td>3,19 г</td>\n",
       "      <td>8,74 г</td>\n",
       "      <td>19,03 г</td>\n",
       "    </tr>\n",
       "    <tr>\n",
       "      <th>1</th>\n",
       "      <td>BURGER KING, гамбургер</td>\n",
       "      <td>261 кКал</td>\n",
       "      <td>14,85 г</td>\n",
       "      <td>10,55 г</td>\n",
       "      <td>25,76 г</td>\n",
       "    </tr>\n",
       "    <tr>\n",
       "      <th>2</th>\n",
       "      <td>BURGER KING, двойной \"WHOPPER\", без сыра</td>\n",
       "      <td>252 кКал</td>\n",
       "      <td>13,94 г</td>\n",
       "      <td>15,66 г</td>\n",
       "      <td>12,34 г</td>\n",
       "    </tr>\n",
       "    <tr>\n",
       "      <th>3</th>\n",
       "      <td>BURGER KING, двойной \"WHOPPER\", с сыром</td>\n",
       "      <td>266 кКал</td>\n",
       "      <td>14,47 г</td>\n",
       "      <td>17,06 г</td>\n",
       "      <td>11,92 г</td>\n",
       "    </tr>\n",
       "    <tr>\n",
       "      <th>4</th>\n",
       "      <td>BURGER KING, драники</td>\n",
       "      <td>302 кКал</td>\n",
       "      <td>2,8 г</td>\n",
       "      <td>19,3 г</td>\n",
       "      <td>27,07 г</td>\n",
       "    </tr>\n",
       "  </tbody>\n",
       "</table>\n",
       "</div>"
      ],
      "text/plain": [
       "                                    product  calories proteins     fats  \\\n",
       "0           BURGER KING, ванильный коктейль  168 кКал   3,19 г   8,74 г   \n",
       "1                    BURGER KING, гамбургер  261 кКал  14,85 г  10,55 г   \n",
       "2  BURGER KING, двойной \"WHOPPER\", без сыра  252 кКал  13,94 г  15,66 г   \n",
       "3   BURGER KING, двойной \"WHOPPER\", с сыром  266 кКал  14,47 г  17,06 г   \n",
       "4                      BURGER KING, драники  302 кКал    2,8 г   19,3 г   \n",
       "\n",
       "     carbs  \n",
       "0  19,03 г  \n",
       "1  25,76 г  \n",
       "2  12,34 г  \n",
       "3  11,92 г  \n",
       "4  27,07 г  "
      ]
     },
     "execution_count": 82,
     "metadata": {},
     "output_type": "execute_result"
    }
   ],
   "source": [
    "# Создание датафрейма\n",
    "df = pd.DataFrame(fast_food)\n",
    "df.head()"
   ]
  },
  {
   "cell_type": "code",
   "execution_count": 83,
   "metadata": {},
   "outputs": [
    {
     "data": {
      "text/plain": [
       "product     0\n",
       "calories    0\n",
       "proteins    0\n",
       "fats        0\n",
       "carbs       0\n",
       "dtype: int64"
      ]
     },
     "metadata": {},
     "output_type": "display_data"
    },
    {
     "name": "stdout",
     "output_type": "stream",
     "text": [
      "<class 'pandas.core.frame.DataFrame'>\n",
      "RangeIndex: 227 entries, 0 to 226\n",
      "Data columns (total 5 columns):\n",
      " #   Column    Non-Null Count  Dtype \n",
      "---  ------    --------------  ----- \n",
      " 0   product   227 non-null    object\n",
      " 1   calories  227 non-null    object\n",
      " 2   proteins  227 non-null    object\n",
      " 3   fats      227 non-null    object\n",
      " 4   carbs     227 non-null    object\n",
      "dtypes: object(5)\n",
      "memory usage: 9.0+ KB\n"
     ]
    },
    {
     "data": {
      "text/plain": [
       "None"
      ]
     },
     "metadata": {},
     "output_type": "display_data"
    }
   ],
   "source": [
    "# Проверка на пустые значения \n",
    "display(df.isnull().sum())\n",
    "\n",
    "# Проверка на типы данных\n",
    "display(df.info())"
   ]
  },
  {
   "cell_type": "code",
   "execution_count": 84,
   "metadata": {},
   "outputs": [],
   "source": [
    "# Преобразование категории 'calories' к типу данных int\n",
    "df['calories'] = df['calories'].apply(lambda x: x.split()[0])\n",
    "df['calories'] = df['calories'].astype(int)\n",
    "\n",
    "# Преобразование категории 'proteins' к типу данных float\n",
    "df['proteins'] = df['proteins'].apply(lambda x: x.split()[0].replace(',','.'))\n",
    "df['proteins'] = df['proteins'].astype(float)\n",
    "\n",
    "# Преобразование категории 'fats' к типу данных float\n",
    "df['fats'] = df['fats'].apply(lambda x: x.split()[0].replace(',','.'))\n",
    "df['fats'] = df['fats'].astype(float)\n",
    "\n",
    "# Преобразование категории 'carbs' к типу данных float\n",
    "df['carbs'] = df['carbs'].apply(lambda x: x.split()[0].replace(',','.'))\n",
    "df['carbs'] = df['carbs'].astype(float)\n",
    "\n"
   ]
  },
  {
   "cell_type": "code",
   "execution_count": 85,
   "metadata": {},
   "outputs": [
    {
     "name": "stdout",
     "output_type": "stream",
     "text": [
      "<class 'pandas.core.frame.DataFrame'>\n",
      "RangeIndex: 227 entries, 0 to 226\n",
      "Data columns (total 5 columns):\n",
      " #   Column    Non-Null Count  Dtype  \n",
      "---  ------    --------------  -----  \n",
      " 0   product   227 non-null    object \n",
      " 1   calories  227 non-null    int32  \n",
      " 2   proteins  227 non-null    float64\n",
      " 3   fats      227 non-null    float64\n",
      " 4   carbs     227 non-null    float64\n",
      "dtypes: float64(3), int32(1), object(1)\n",
      "memory usage: 8.1+ KB\n"
     ]
    }
   ],
   "source": [
    "# Проверка корректности обработки\n",
    "df.info()"
   ]
  },
  {
   "cell_type": "code",
   "execution_count": null,
   "metadata": {},
   "outputs": [],
   "source": [
    "# Сохранение информации в файл csv\n",
    "df.to_csv('fast_food.csv')"
   ]
  }
 ],
 "metadata": {
  "kernelspec": {
   "display_name": "base",
   "language": "python",
   "name": "python3"
  },
  "language_info": {
   "codemirror_mode": {
    "name": "ipython",
    "version": 3
   },
   "file_extension": ".py",
   "mimetype": "text/x-python",
   "name": "python",
   "nbconvert_exporter": "python",
   "pygments_lexer": "ipython3",
   "version": "3.11.7"
  }
 },
 "nbformat": 4,
 "nbformat_minor": 2
}
